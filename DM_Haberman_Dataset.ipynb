{
 "cells": [
  {
   "cell_type": "code",
   "execution_count": null,
   "metadata": {},
   "outputs": [],
   "source": [
    "# Members:\n",
    "# Kyle Joseph O. Timajo\n",
    "# Kenneth G. Popera\n",
    "# Marben C. Villaflor\n",
    "# BSIT-3R4"
   ]
  },
  {
   "cell_type": "code",
   "execution_count": 1,
   "metadata": {},
   "outputs": [],
   "source": [
    "import pandas as pd"
   ]
  },
  {
   "cell_type": "code",
   "execution_count": 2,
   "metadata": {},
   "outputs": [],
   "source": [
    "data = pd.read_csv('haberman.csv', index_col = False, names = ['age', 'operation_year', 'positive_axillary_nodes_detected', 'survival_status'])"
   ]
  },
  {
   "cell_type": "code",
   "execution_count": 3,
   "metadata": {},
   "outputs": [
    {
     "output_type": "execute_result",
     "data": {
      "text/plain": [
       "     age  operation_year  positive_axillary_nodes_detected  survival_status\n",
       "0     30              64                                 1                1\n",
       "1     30              62                                 3                1\n",
       "2     30              65                                 0                1\n",
       "3     31              59                                 2                1\n",
       "4     31              65                                 4                1\n",
       "..   ...             ...                               ...              ...\n",
       "301   75              62                                 1                1\n",
       "302   76              67                                 0                1\n",
       "303   77              65                                 3                1\n",
       "304   78              65                                 1                2\n",
       "305   83              58                                 2                2\n",
       "\n",
       "[306 rows x 4 columns]"
      ],
      "text/html": "<div>\n<style scoped>\n    .dataframe tbody tr th:only-of-type {\n        vertical-align: middle;\n    }\n\n    .dataframe tbody tr th {\n        vertical-align: top;\n    }\n\n    .dataframe thead th {\n        text-align: right;\n    }\n</style>\n<table border=\"1\" class=\"dataframe\">\n  <thead>\n    <tr style=\"text-align: right;\">\n      <th></th>\n      <th>age</th>\n      <th>operation_year</th>\n      <th>positive_axillary_nodes_detected</th>\n      <th>survival_status</th>\n    </tr>\n  </thead>\n  <tbody>\n    <tr>\n      <th>0</th>\n      <td>30</td>\n      <td>64</td>\n      <td>1</td>\n      <td>1</td>\n    </tr>\n    <tr>\n      <th>1</th>\n      <td>30</td>\n      <td>62</td>\n      <td>3</td>\n      <td>1</td>\n    </tr>\n    <tr>\n      <th>2</th>\n      <td>30</td>\n      <td>65</td>\n      <td>0</td>\n      <td>1</td>\n    </tr>\n    <tr>\n      <th>3</th>\n      <td>31</td>\n      <td>59</td>\n      <td>2</td>\n      <td>1</td>\n    </tr>\n    <tr>\n      <th>4</th>\n      <td>31</td>\n      <td>65</td>\n      <td>4</td>\n      <td>1</td>\n    </tr>\n    <tr>\n      <th>...</th>\n      <td>...</td>\n      <td>...</td>\n      <td>...</td>\n      <td>...</td>\n    </tr>\n    <tr>\n      <th>301</th>\n      <td>75</td>\n      <td>62</td>\n      <td>1</td>\n      <td>1</td>\n    </tr>\n    <tr>\n      <th>302</th>\n      <td>76</td>\n      <td>67</td>\n      <td>0</td>\n      <td>1</td>\n    </tr>\n    <tr>\n      <th>303</th>\n      <td>77</td>\n      <td>65</td>\n      <td>3</td>\n      <td>1</td>\n    </tr>\n    <tr>\n      <th>304</th>\n      <td>78</td>\n      <td>65</td>\n      <td>1</td>\n      <td>2</td>\n    </tr>\n    <tr>\n      <th>305</th>\n      <td>83</td>\n      <td>58</td>\n      <td>2</td>\n      <td>2</td>\n    </tr>\n  </tbody>\n</table>\n<p>306 rows × 4 columns</p>\n</div>"
     },
     "metadata": {},
     "execution_count": 3
    }
   ],
   "source": [
    "data"
   ]
  },
  {
   "cell_type": "code",
   "execution_count": 4,
   "metadata": {},
   "outputs": [],
   "source": [
    "X, y = data[['age', 'operation_year', 'positive_axillary_nodes_detected']], data['survival_status']"
   ]
  },
  {
   "cell_type": "code",
   "execution_count": 5,
   "metadata": {},
   "outputs": [],
   "source": [
    "from sklearn.model_selection import cross_validate\r\n",
    "from sklearn.metrics import make_scorer, recall_score"
   ]
  },
  {
   "cell_type": "code",
   "execution_count": 6,
   "metadata": {},
   "outputs": [],
   "source": [
    "specificity = make_scorer(recall_score, pos_label=2)\n",
    "sensitivity = make_scorer(recall_score, pos_label=1)\n",
    "scoring = {'accuracy': 'accuracy',\n",
    "           'precision': 'precision',\n",
    "           'recall': 'recall',\n",
    "           'sensitivity': sensitivity,\n",
    "           'specificity': specificity,\n",
    "           'f1': 'f1'}"
   ]
  },
  {
   "cell_type": "markdown",
   "metadata": {},
   "source": [
    "Decision Tree"
   ]
  },
  {
   "cell_type": "code",
   "execution_count": 7,
   "metadata": {},
   "outputs": [],
   "source": [
    "from sklearn.tree import DecisionTreeClassifier"
   ]
  },
  {
   "cell_type": "code",
   "execution_count": 8,
   "metadata": {},
   "outputs": [],
   "source": [
    "dt_classifier = DecisionTreeClassifier(random_state=0)"
   ]
  },
  {
   "cell_type": "code",
   "execution_count": 9,
   "metadata": {},
   "outputs": [
    {
     "output_type": "execute_result",
     "data": {
      "text/plain": [
       "{'fit_time': array([0.03800273, 0.0030005 , 0.00300026, 0.00200033, 0.0019989 ,\n",
       "        0.00300097, 0.00299978, 0.00299788, 0.00400066, 0.00300026]),\n",
       " 'score_time': array([0.00900149, 0.00600028, 0.01299977, 0.00699973, 0.00700092,\n",
       "        0.00900078, 0.01000381, 0.00800014, 0.00700092, 0.00800085]),\n",
       " 'test_accuracy': array([0.74193548, 0.38709677, 0.25806452, 0.58064516, 0.61290323,\n",
       "        0.77419355, 0.76666667, 0.66666667, 0.63333333, 0.6       ]),\n",
       " 'test_precision': array([0.74193548, 0.61111111, 0.5       , 0.77777778, 0.82352941,\n",
       "        0.85714286, 0.8       , 0.75      , 0.72      , 0.77777778]),\n",
       " 'test_recall': array([1.        , 0.47826087, 0.26086957, 0.60869565, 0.60869565,\n",
       "        0.81818182, 0.90909091, 0.81818182, 0.81818182, 0.63636364]),\n",
       " 'test_sensitivity': array([1.        , 0.47826087, 0.26086957, 0.60869565, 0.60869565,\n",
       "        0.81818182, 0.90909091, 0.81818182, 0.81818182, 0.63636364]),\n",
       " 'test_specificity': array([0.        , 0.125     , 0.25      , 0.5       , 0.625     ,\n",
       "        0.66666667, 0.375     , 0.25      , 0.125     , 0.5       ]),\n",
       " 'test_f1': array([0.85185185, 0.53658537, 0.34285714, 0.68292683, 0.7       ,\n",
       "        0.8372093 , 0.85106383, 0.7826087 , 0.76595745, 0.7       ])}"
      ]
     },
     "metadata": {},
     "execution_count": 9
    }
   ],
   "source": [
    "dt_scores = cross_validate(dt_classifier, X, y, cv=10, scoring=scoring)\n",
    "dt_scores"
   ]
  },
  {
   "cell_type": "code",
   "execution_count": 10,
   "metadata": {},
   "outputs": [
    {
     "output_type": "stream",
     "name": "stdout",
     "text": [
      "Precision: 0.7359274419445196\nRecall: 0.6956521739130436\nSensitivity: 0.6956521739130436\nSpecificity: 0.3416666666666667\nF1: 0.7051060464404446\nAccuracy: 0.6021505376344086\n"
     ]
    }
   ],
   "source": [
    "print('Precision: %s' % dt_scores['test_precision'].mean())\r\n",
    "print('Recall: %s' % dt_scores['test_recall'].mean())\r\n",
    "print('Sensitivity: %s' % dt_scores['test_sensitivity'].mean())\r\n",
    "print('Specificity: %s' % dt_scores['test_specificity'].mean())\r\n",
    "print('F1: %s' % dt_scores['test_f1'].mean())\r\n",
    "print('Accuracy: %s' % dt_scores['test_accuracy'].mean())\r\n"
   ]
  },
  {
   "cell_type": "code",
   "execution_count": 11,
   "metadata": {},
   "outputs": [
    {
     "output_type": "stream",
     "name": "stdout",
     "text": [
      "Precision: 73.59\nRecall:  69.57\nSensitivity:  69.57\nSpecificity: 34.17\nF1: 70.51\nAccuracy: 60.22\n"
     ]
    }
   ],
   "source": [
    "print('Precision: %0.2f' % (dt_scores['test_precision'].mean() * 100))\n",
    "print('Recall:  %0.2f' % (dt_scores['test_recall'].mean() * 100))\n",
    "print('Sensitivity:  %0.2f' % (dt_scores['test_sensitivity'].mean() * 100))\n",
    "print('Specificity: %0.2f' % (dt_scores['test_specificity'].mean() * 100))\n",
    "print('F1: %0.2f' % (dt_scores['test_f1'].mean() * 100))\n",
    "print('Accuracy: %0.2f' % (dt_scores['test_accuracy'].mean() * 100))"
   ]
  },
  {
   "cell_type": "markdown",
   "metadata": {},
   "source": [
    "Naive Bayes"
   ]
  },
  {
   "cell_type": "code",
   "execution_count": 12,
   "metadata": {},
   "outputs": [],
   "source": [
    "from sklearn.naive_bayes import GaussianNB"
   ]
  },
  {
   "cell_type": "code",
   "execution_count": 13,
   "metadata": {},
   "outputs": [],
   "source": [
    "gnb_classifier = GaussianNB()"
   ]
  },
  {
   "cell_type": "code",
   "execution_count": 14,
   "metadata": {},
   "outputs": [
    {
     "output_type": "execute_result",
     "data": {
      "text/plain": [
       "{'fit_time': array([0.00399995, 0.00300145, 0.00300002, 0.0040009 , 0.00400019,\n",
       "        0.006001  , 0.00499988, 0.00700092, 0.00300002, 0.00399947]),\n",
       " 'score_time': array([0.00800037, 0.00800037, 0.00900078, 0.00800037, 0.0350039 ,\n",
       "        0.0099988 , 0.00900102, 0.00700045, 0.01900077, 0.00800014]),\n",
       " 'test_accuracy': array([0.74193548, 0.80645161, 0.70967742, 0.74193548, 0.74193548,\n",
       "        0.67741935, 0.8       , 0.8       , 0.76666667, 0.73333333]),\n",
       " 'test_precision': array([0.77777778, 0.79310345, 0.76923077, 0.74193548, 0.74193548,\n",
       "        0.73076923, 0.80769231, 0.80769231, 0.8       , 0.73333333]),\n",
       " 'test_recall': array([0.91304348, 1.        , 0.86956522, 1.        , 1.        ,\n",
       "        0.86363636, 0.95454545, 0.95454545, 0.90909091, 1.        ]),\n",
       " 'test_sensitivity': array([0.91304348, 1.        , 0.86956522, 1.        , 1.        ,\n",
       "        0.86363636, 0.95454545, 0.95454545, 0.90909091, 1.        ]),\n",
       " 'test_specificity': array([0.25      , 0.25      , 0.25      , 0.        , 0.        ,\n",
       "        0.22222222, 0.375     , 0.375     , 0.375     , 0.        ]),\n",
       " 'test_f1': array([0.84      , 0.88461538, 0.81632653, 0.85185185, 0.85185185,\n",
       "        0.79166667, 0.875     , 0.875     , 0.85106383, 0.84615385])}"
      ]
     },
     "metadata": {},
     "execution_count": 14
    }
   ],
   "source": [
    "gnb_scores = cross_validate(gnb_classifier, X, y, cv=10, scoring=scoring)\n",
    "gnb_scores"
   ]
  },
  {
   "cell_type": "code",
   "execution_count": 15,
   "metadata": {},
   "outputs": [
    {
     "output_type": "stream",
     "name": "stdout",
     "text": [
      "Precision: 0.7703470142513524\nRecall: 0.9464426877470355\nSensitivity: 0.9464426877470355\nSpecificity: 0.20972222222222223\nF1: 0.848352996153908\nAccuracy: 0.7519354838709678\n"
     ]
    }
   ],
   "source": [
    "print('Precision: %s' % gnb_scores['test_precision'].mean())\r\n",
    "print('Recall: %s' % gnb_scores['test_recall'].mean())\r\n",
    "print('Sensitivity: %s' % gnb_scores['test_sensitivity'].mean())\r\n",
    "print('Specificity: %s' % gnb_scores['test_specificity'].mean())\r\n",
    "print('F1: %s' % gnb_scores['test_f1'].mean())\r\n",
    "print('Accuracy: %s' % gnb_scores['test_accuracy'].mean())"
   ]
  },
  {
   "cell_type": "code",
   "execution_count": 16,
   "metadata": {},
   "outputs": [
    {
     "output_type": "stream",
     "name": "stdout",
     "text": [
      "Precision: 77.03\nRecall:  94.64\nSensitivity:  94.64\nSpecificity: 20.97\nF1: 84.84\nAccuracy: 75.19\n"
     ]
    }
   ],
   "source": [
    "print('Precision: %0.2f' % (gnb_scores['test_precision'].mean() * 100))\n",
    "print('Recall:  %0.2f' % (gnb_scores['test_recall'].mean() * 100))\n",
    "print('Sensitivity:  %0.2f' % (gnb_scores['test_sensitivity'].mean() * 100))\n",
    "print('Specificity: %0.2f' % (gnb_scores['test_specificity'].mean() * 100))\n",
    "print('F1: %0.2f' % (gnb_scores['test_f1'].mean() * 100))\n",
    "print('Accuracy: %0.2f' % (gnb_scores['test_accuracy'].mean() * 100))"
   ]
  },
  {
   "cell_type": "markdown",
   "metadata": {},
   "source": [
    "Logistic Regression"
   ]
  },
  {
   "cell_type": "code",
   "execution_count": 17,
   "metadata": {},
   "outputs": [],
   "source": [
    "from sklearn.linear_model import LogisticRegression"
   ]
  },
  {
   "cell_type": "code",
   "execution_count": 18,
   "metadata": {},
   "outputs": [],
   "source": [
    "lr_classifier = LogisticRegression(random_state=0)"
   ]
  },
  {
   "cell_type": "code",
   "execution_count": 19,
   "metadata": {},
   "outputs": [
    {
     "output_type": "execute_result",
     "data": {
      "text/plain": [
       "{'fit_time': array([0.47703815, 0.01000571, 0.01000118, 0.01100039, 0.00900078,\n",
       "        0.01000094, 0.01000094, 0.01000023, 0.00999975, 0.01200151]),\n",
       " 'score_time': array([0.00699997, 0.00599384, 0.00600028, 0.00699973, 0.00600076,\n",
       "        0.00600028, 0.00700092, 0.00600171, 0.00600052, 0.00900126]),\n",
       " 'test_accuracy': array([0.74193548, 0.80645161, 0.77419355, 0.74193548, 0.74193548,\n",
       "        0.67741935, 0.73333333, 0.76666667, 0.76666667, 0.7       ]),\n",
       " 'test_precision': array([0.75862069, 0.79310345, 0.78571429, 0.74193548, 0.74193548,\n",
       "        0.73076923, 0.75      , 0.77777778, 0.8       , 0.72413793]),\n",
       " 'test_recall': array([0.95652174, 1.        , 0.95652174, 1.        , 1.        ,\n",
       "        0.86363636, 0.95454545, 0.95454545, 0.90909091, 0.95454545]),\n",
       " 'test_sensitivity': array([0.95652174, 1.        , 0.95652174, 1.        , 1.        ,\n",
       "        0.86363636, 0.95454545, 0.95454545, 0.90909091, 0.95454545]),\n",
       " 'test_specificity': array([0.125     , 0.25      , 0.25      , 0.        , 0.        ,\n",
       "        0.22222222, 0.125     , 0.25      , 0.375     , 0.        ]),\n",
       " 'test_f1': array([0.84615385, 0.88461538, 0.8627451 , 0.85185185, 0.85185185,\n",
       "        0.79166667, 0.84      , 0.85714286, 0.85106383, 0.82352941])}"
      ]
     },
     "metadata": {},
     "execution_count": 19
    }
   ],
   "source": [
    "lr_scores = cross_validate(lr_classifier, X, y, cv=10, scoring=scoring)\n",
    "lr_scores"
   ]
  },
  {
   "cell_type": "code",
   "execution_count": 20,
   "metadata": {},
   "outputs": [
    {
     "output_type": "stream",
     "name": "stdout",
     "text": [
      "Precision: 0.7603994330968747\nRecall: 0.9549407114624506\nSensitivity: 0.9549407114624506\nSpecificity: 0.15972222222222224\nF1: 0.8460620797873615\nAccuracy: 0.7450537634408603\n"
     ]
    }
   ],
   "source": [
    "print('Precision: %s' % lr_scores['test_precision'].mean())\r\n",
    "print('Recall: %s' % lr_scores['test_recall'].mean())\r\n",
    "print('Sensitivity: %s' % lr_scores['test_sensitivity'].mean())\r\n",
    "print('Specificity: %s' % lr_scores['test_specificity'].mean())\r\n",
    "print('F1: %s' % lr_scores['test_f1'].mean())\r\n",
    "print('Accuracy: %s' % lr_scores['test_accuracy'].mean())"
   ]
  },
  {
   "cell_type": "code",
   "execution_count": 21,
   "metadata": {},
   "outputs": [
    {
     "output_type": "stream",
     "name": "stdout",
     "text": [
      "Precision: 76.04\nRecall:  95.49\nSensitivity:  95.49\nSpecificity: 15.97\nF1: 84.61\nAccuracy: 74.51\n"
     ]
    }
   ],
   "source": [
    "print('Precision: %0.2f' % (lr_scores['test_precision'].mean() * 100))\n",
    "print('Recall:  %0.2f' % (lr_scores['test_recall'].mean() * 100))\n",
    "print('Sensitivity:  %0.2f' % (lr_scores['test_sensitivity'].mean() * 100))\n",
    "print('Specificity: %0.2f' % (lr_scores['test_specificity'].mean() * 100))\n",
    "print('F1: %0.2f' % (lr_scores['test_f1'].mean() * 100))\n",
    "print('Accuracy: %0.2f' % (lr_scores['test_accuracy'].mean() * 100))"
   ]
  },
  {
   "cell_type": "markdown",
   "metadata": {},
   "source": [
    "Support Vector Machine"
   ]
  },
  {
   "cell_type": "code",
   "execution_count": 22,
   "metadata": {},
   "outputs": [],
   "source": [
    "from sklearn import svm"
   ]
  },
  {
   "cell_type": "code",
   "execution_count": 23,
   "metadata": {},
   "outputs": [],
   "source": [
    "svm_classifier = svm.SVC(kernel='linear')"
   ]
  },
  {
   "cell_type": "code",
   "execution_count": 24,
   "metadata": {},
   "outputs": [
    {
     "output_type": "execute_result",
     "data": {
      "text/plain": [
       "{'fit_time': array([0.10300875, 0.02399898, 0.06300497, 0.06700397, 0.05100441,\n",
       "        0.04400373, 0.02600384, 0.0520041 , 0.05700374, 0.04900384]),\n",
       " 'score_time': array([0.01100302, 0.00800228, 0.00900197, 0.00600076, 0.00600004,\n",
       "        0.00600171, 0.00599813, 0.00700212, 0.00900173, 0.0090003 ]),\n",
       " 'test_accuracy': array([0.77419355, 0.74193548, 0.74193548, 0.74193548, 0.74193548,\n",
       "        0.67741935, 0.73333333, 0.73333333, 0.7       , 0.73333333]),\n",
       " 'test_precision': array([0.78571429, 0.74193548, 0.74193548, 0.74193548, 0.74193548,\n",
       "        0.7       , 0.73333333, 0.73333333, 0.72413793, 0.73333333]),\n",
       " 'test_recall': array([0.95652174, 1.        , 1.        , 1.        , 1.        ,\n",
       "        0.95454545, 1.        , 1.        , 0.95454545, 1.        ]),\n",
       " 'test_sensitivity': array([0.95652174, 1.        , 1.        , 1.        , 1.        ,\n",
       "        0.95454545, 1.        , 1.        , 0.95454545, 1.        ]),\n",
       " 'test_specificity': array([0.25, 0.  , 0.  , 0.  , 0.  , 0.  , 0.  , 0.  , 0.  , 0.  ]),\n",
       " 'test_f1': array([0.8627451 , 0.85185185, 0.85185185, 0.85185185, 0.85185185,\n",
       "        0.80769231, 0.84615385, 0.84615385, 0.82352941, 0.84615385])}"
      ]
     },
     "metadata": {},
     "execution_count": 24
    }
   ],
   "source": [
    "svm_scores = cross_validate(svm_classifier, X, y, cv=10, scoring=scoring)\n",
    "svm_scores"
   ]
  },
  {
   "cell_type": "code",
   "execution_count": 25,
   "metadata": {},
   "outputs": [
    {
     "output_type": "stream",
     "name": "stdout",
     "text": [
      "Precision: 0.7377594152232639\nRecall: 0.9865612648221344\nSensitivity: 0.9865612648221344\nSpecificity: 0.025\nF1: 0.8439835763365174\nAccuracy: 0.7319354838709677\n"
     ]
    }
   ],
   "source": [
    "print('Precision: %s' % svm_scores['test_precision'].mean())\n",
    "print('Recall: %s' % svm_scores['test_recall'].mean())\n",
    "print('Sensitivity: %s' % svm_scores['test_sensitivity'].mean())\n",
    "print('Specificity: %s' % svm_scores['test_specificity'].mean())\n",
    "print('F1: %s' % svm_scores['test_f1'].mean())\n",
    "print('Accuracy: %s' % svm_scores['test_accuracy'].mean())"
   ]
  },
  {
   "cell_type": "code",
   "execution_count": 26,
   "metadata": {},
   "outputs": [
    {
     "output_type": "stream",
     "name": "stdout",
     "text": [
      "Precision: 73.78\nRecall:  98.66\nSensitivity:  98.66\nSpecificity: 2.50\nF1: 84.40\nAccuracy: 73.19\n"
     ]
    }
   ],
   "source": [
    "print('Precision: %0.2f' % (svm_scores['test_precision'].mean() * 100))\n",
    "print('Recall:  %0.2f' % (svm_scores['test_recall'].mean() * 100))\n",
    "print('Sensitivity:  %0.2f' % (svm_scores['test_sensitivity'].mean() * 100))\n",
    "print('Specificity: %0.2f' % (svm_scores['test_specificity'].mean() * 100))\n",
    "print('F1: %0.2f' % (svm_scores['test_f1'].mean() * 100))\n",
    "print('Accuracy: %0.2f' % (svm_scores['test_accuracy'].mean() * 100))"
   ]
  },
  {
   "cell_type": "markdown",
   "metadata": {},
   "source": [
    "Random Forest"
   ]
  },
  {
   "cell_type": "code",
   "execution_count": 27,
   "metadata": {},
   "outputs": [],
   "source": [
    "from sklearn.ensemble import RandomForestClassifier"
   ]
  },
  {
   "cell_type": "code",
   "execution_count": 28,
   "metadata": {},
   "outputs": [],
   "source": [
    "rf_classifier = RandomForestClassifier(random_state=0)"
   ]
  },
  {
   "cell_type": "code",
   "execution_count": 29,
   "metadata": {},
   "outputs": [
    {
     "output_type": "execute_result",
     "data": {
      "text/plain": [
       "{'fit_time': array([0.17101264, 0.17101574, 0.17701459, 0.14700985, 0.15801334,\n",
       "        0.14701152, 0.1560123 , 0.16901183, 0.1770153 , 0.17601466]),\n",
       " 'score_time': array([0.01500154, 0.02000117, 0.02300358, 0.0180006 , 0.0180006 ,\n",
       "        0.01700115, 0.01700282, 0.01600099, 0.02100062, 0.01900148]),\n",
       " 'test_accuracy': array([0.74193548, 0.58064516, 0.58064516, 0.61290323, 0.77419355,\n",
       "        0.77419355, 0.76666667, 0.66666667, 0.73333333, 0.7       ]),\n",
       " 'test_precision': array([0.74193548, 0.69230769, 0.77777778, 0.76190476, 0.80769231,\n",
       "        0.89473684, 0.75862069, 0.75      , 0.81818182, 0.72413793]),\n",
       " 'test_recall': array([1.        , 0.7826087 , 0.60869565, 0.69565217, 0.91304348,\n",
       "        0.77272727, 1.        , 0.81818182, 0.81818182, 0.95454545]),\n",
       " 'test_sensitivity': array([1.        , 0.7826087 , 0.60869565, 0.69565217, 0.91304348,\n",
       "        0.77272727, 1.        , 0.81818182, 0.81818182, 0.95454545]),\n",
       " 'test_specificity': array([0.        , 0.        , 0.5       , 0.375     , 0.375     ,\n",
       "        0.77777778, 0.125     , 0.25      , 0.5       , 0.        ]),\n",
       " 'test_f1': array([0.85185185, 0.73469388, 0.68292683, 0.72727273, 0.85714286,\n",
       "        0.82926829, 0.8627451 , 0.7826087 , 0.81818182, 0.82352941])}"
      ]
     },
     "metadata": {},
     "execution_count": 29
    }
   ],
   "source": [
    "rf_scores = cross_validate(rf_classifier, X, y, cv=10, scoring=scoring)\n",
    "rf_scores"
   ]
  },
  {
   "cell_type": "code",
   "execution_count": 30,
   "metadata": {},
   "outputs": [
    {
     "output_type": "stream",
     "name": "stdout",
     "text": [
      "Precision: 0.7727295304530244\nRecall: 0.8363636363636363\nSensitivity: 0.8363636363636363\nSpecificity: 0.29027777777777775\nF1: 0.7970221459407589\nAccuracy: 0.6931182795698925\n"
     ]
    }
   ],
   "source": [
    "print('Precision: %s' % rf_scores['test_precision'].mean())\r\n",
    "print('Recall: %s' % rf_scores['test_recall'].mean())\r\n",
    "print('Sensitivity: %s' % rf_scores['test_sensitivity'].mean())\r\n",
    "print('Specificity: %s' % rf_scores['test_specificity'].mean())\r\n",
    "print('F1: %s' % rf_scores['test_f1'].mean())\r\n",
    "print('Accuracy: %s' % rf_scores['test_accuracy'].mean())"
   ]
  },
  {
   "cell_type": "code",
   "execution_count": 31,
   "metadata": {},
   "outputs": [
    {
     "output_type": "stream",
     "name": "stdout",
     "text": [
      "Precision: 77.27\nRecall:  83.64\nSensitivity:  83.64\nSpecificity: 29.03\nF1: 79.70\nAccuracy: 69.31\n"
     ]
    }
   ],
   "source": [
    "print('Precision: %0.2f' % (rf_scores['test_precision'].mean() * 100))\n",
    "print('Recall:  %0.2f' % (rf_scores['test_recall'].mean() * 100))\n",
    "print('Sensitivity:  %0.2f' % (rf_scores['test_sensitivity'].mean() * 100))\n",
    "print('Specificity: %0.2f' % (rf_scores['test_specificity'].mean() * 100))\n",
    "print('F1: %0.2f' % (rf_scores['test_f1'].mean() * 100))\n",
    "print('Accuracy: %0.2f' % (rf_scores['test_accuracy'].mean() * 100))"
   ]
  }
 ],
 "metadata": {
  "kernelspec": {
   "name": "python388jvsc74a57bd0919eb0904b72c37e8d6c7e3b2f7b6f162c89cafcc297fba09b2d10c79c52f5eb",
   "display_name": "Python 3.8.8 64-bit ('base': conda)"
  },
  "language_info": {
   "codemirror_mode": {
    "name": "ipython",
    "version": 3
   },
   "file_extension": ".py",
   "mimetype": "text/x-python",
   "name": "python",
   "nbconvert_exporter": "python",
   "pygments_lexer": "ipython3",
   "version": "3.8.8"
  },
  "orig_nbformat": 2
 },
 "nbformat": 4,
 "nbformat_minor": 2
}