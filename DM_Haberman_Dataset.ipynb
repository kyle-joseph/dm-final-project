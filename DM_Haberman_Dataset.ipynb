{
 "cells": [
  {
   "cell_type": "code",
   "execution_count": 73,
   "metadata": {},
   "outputs": [],
   "source": [
    "import pandas as pd"
   ]
  },
  {
   "cell_type": "code",
   "execution_count": 74,
   "metadata": {},
   "outputs": [],
   "source": [
    "data = pd.read_csv('haberman.csv', index_col = False, names = ['age', 'operation_year', 'positive_axillary_nodes_detected', 'survival_status'])"
   ]
  },
  {
   "cell_type": "code",
   "execution_count": 75,
   "metadata": {},
   "outputs": [
    {
     "data": {
      "text/html": "<div>\n<style scoped>\n    .dataframe tbody tr th:only-of-type {\n        vertical-align: middle;\n    }\n\n    .dataframe tbody tr th {\n        vertical-align: top;\n    }\n\n    .dataframe thead th {\n        text-align: right;\n    }\n</style>\n<table border=\"1\" class=\"dataframe\">\n  <thead>\n    <tr style=\"text-align: right;\">\n      <th></th>\n      <th>age</th>\n      <th>operation_year</th>\n      <th>positive_axillary_nodes_detected</th>\n      <th>survival_status</th>\n    </tr>\n  </thead>\n  <tbody>\n    <tr>\n      <th>0</th>\n      <td>30</td>\n      <td>64</td>\n      <td>1</td>\n      <td>1</td>\n    </tr>\n    <tr>\n      <th>1</th>\n      <td>30</td>\n      <td>62</td>\n      <td>3</td>\n      <td>1</td>\n    </tr>\n    <tr>\n      <th>2</th>\n      <td>30</td>\n      <td>65</td>\n      <td>0</td>\n      <td>1</td>\n    </tr>\n    <tr>\n      <th>3</th>\n      <td>31</td>\n      <td>59</td>\n      <td>2</td>\n      <td>1</td>\n    </tr>\n    <tr>\n      <th>4</th>\n      <td>31</td>\n      <td>65</td>\n      <td>4</td>\n      <td>1</td>\n    </tr>\n    <tr>\n      <th>...</th>\n      <td>...</td>\n      <td>...</td>\n      <td>...</td>\n      <td>...</td>\n    </tr>\n    <tr>\n      <th>301</th>\n      <td>75</td>\n      <td>62</td>\n      <td>1</td>\n      <td>1</td>\n    </tr>\n    <tr>\n      <th>302</th>\n      <td>76</td>\n      <td>67</td>\n      <td>0</td>\n      <td>1</td>\n    </tr>\n    <tr>\n      <th>303</th>\n      <td>77</td>\n      <td>65</td>\n      <td>3</td>\n      <td>1</td>\n    </tr>\n    <tr>\n      <th>304</th>\n      <td>78</td>\n      <td>65</td>\n      <td>1</td>\n      <td>2</td>\n    </tr>\n    <tr>\n      <th>305</th>\n      <td>83</td>\n      <td>58</td>\n      <td>2</td>\n      <td>2</td>\n    </tr>\n  </tbody>\n</table>\n<p>306 rows × 4 columns</p>\n</div>",
      "text/plain": "     age  operation_year  positive_axillary_nodes_detected  survival_status\n0     30              64                                 1                1\n1     30              62                                 3                1\n2     30              65                                 0                1\n3     31              59                                 2                1\n4     31              65                                 4                1\n..   ...             ...                               ...              ...\n301   75              62                                 1                1\n302   76              67                                 0                1\n303   77              65                                 3                1\n304   78              65                                 1                2\n305   83              58                                 2                2\n\n[306 rows x 4 columns]"
     },
     "execution_count": 75,
     "metadata": {},
     "output_type": "execute_result"
    }
   ],
   "source": [
    "data"
   ]
  },
  {
   "cell_type": "code",
   "execution_count": 76,
   "metadata": {},
   "outputs": [],
   "source": [
    "#survival_status = {1:'survived', 2:'died'}\r\n",
    "#data['survival_status'] = data.survival_status.map(survival_status)"
   ]
  },
  {
   "cell_type": "code",
   "execution_count": 77,
   "metadata": {},
   "outputs": [
    {
     "data": {
      "text/html": "<div>\n<style scoped>\n    .dataframe tbody tr th:only-of-type {\n        vertical-align: middle;\n    }\n\n    .dataframe tbody tr th {\n        vertical-align: top;\n    }\n\n    .dataframe thead th {\n        text-align: right;\n    }\n</style>\n<table border=\"1\" class=\"dataframe\">\n  <thead>\n    <tr style=\"text-align: right;\">\n      <th></th>\n      <th>age</th>\n      <th>operation_year</th>\n      <th>positive_axillary_nodes_detected</th>\n      <th>survival_status</th>\n    </tr>\n  </thead>\n  <tbody>\n    <tr>\n      <th>0</th>\n      <td>30</td>\n      <td>64</td>\n      <td>1</td>\n      <td>1</td>\n    </tr>\n    <tr>\n      <th>1</th>\n      <td>30</td>\n      <td>62</td>\n      <td>3</td>\n      <td>1</td>\n    </tr>\n    <tr>\n      <th>2</th>\n      <td>30</td>\n      <td>65</td>\n      <td>0</td>\n      <td>1</td>\n    </tr>\n    <tr>\n      <th>3</th>\n      <td>31</td>\n      <td>59</td>\n      <td>2</td>\n      <td>1</td>\n    </tr>\n    <tr>\n      <th>4</th>\n      <td>31</td>\n      <td>65</td>\n      <td>4</td>\n      <td>1</td>\n    </tr>\n    <tr>\n      <th>...</th>\n      <td>...</td>\n      <td>...</td>\n      <td>...</td>\n      <td>...</td>\n    </tr>\n    <tr>\n      <th>301</th>\n      <td>75</td>\n      <td>62</td>\n      <td>1</td>\n      <td>1</td>\n    </tr>\n    <tr>\n      <th>302</th>\n      <td>76</td>\n      <td>67</td>\n      <td>0</td>\n      <td>1</td>\n    </tr>\n    <tr>\n      <th>303</th>\n      <td>77</td>\n      <td>65</td>\n      <td>3</td>\n      <td>1</td>\n    </tr>\n    <tr>\n      <th>304</th>\n      <td>78</td>\n      <td>65</td>\n      <td>1</td>\n      <td>2</td>\n    </tr>\n    <tr>\n      <th>305</th>\n      <td>83</td>\n      <td>58</td>\n      <td>2</td>\n      <td>2</td>\n    </tr>\n  </tbody>\n</table>\n<p>306 rows × 4 columns</p>\n</div>",
      "text/plain": "     age  operation_year  positive_axillary_nodes_detected  survival_status\n0     30              64                                 1                1\n1     30              62                                 3                1\n2     30              65                                 0                1\n3     31              59                                 2                1\n4     31              65                                 4                1\n..   ...             ...                               ...              ...\n301   75              62                                 1                1\n302   76              67                                 0                1\n303   77              65                                 3                1\n304   78              65                                 1                2\n305   83              58                                 2                2\n\n[306 rows x 4 columns]"
     },
     "execution_count": 77,
     "metadata": {},
     "output_type": "execute_result"
    }
   ],
   "source": [
    "data"
   ]
  },
  {
   "cell_type": "code",
   "execution_count": 78,
   "metadata": {},
   "outputs": [],
   "source": [
    "X, y = data[['age', 'operation_year', 'positive_axillary_nodes_detected']], data['survival_status']"
   ]
  },
  {
   "cell_type": "code",
   "execution_count": 79,
   "metadata": {},
   "outputs": [],
   "source": [
    "scoring = {'accuracy': 'accuracy',\r\n",
    "           'recall': 'recall',\r\n",
    "           'precision': 'precision',\r\n",
    "           'roc_auc': 'roc_auc'}"
   ]
  },
  {
   "cell_type": "code",
   "execution_count": 80,
   "metadata": {},
   "outputs": [],
   "source": [
    "from sklearn.tree import DecisionTreeClassifier"
   ]
  },
  {
   "cell_type": "code",
   "execution_count": 81,
   "metadata": {},
   "outputs": [],
   "source": [
    "dt_classifier = DecisionTreeClassifier()"
   ]
  },
  {
   "cell_type": "code",
   "execution_count": 82,
   "metadata": {},
   "outputs": [],
   "source": [
    "from sklearn.model_selection import cross_val_score, cross_validate\r\n"
   ]
  },
  {
   "cell_type": "code",
   "execution_count": 83,
   "metadata": {},
   "outputs": [
    {
     "data": {
      "text/plain": "{'fit_time': array([0.0068543 , 0.00784254, 0.00481129, 0.00406981, 0.00299215,\n        0.00396323, 0.00398946, 0.00399351, 0.00299191, 0.00299191]),\n 'score_time': array([0.01196218, 0.00799799, 0.00800633, 0.00889254, 0.00901699,\n        0.00925612, 0.0069809 , 0.00797367, 0.00797987, 0.00598407]),\n 'test_accuracy': array([0.74193548, 0.35483871, 0.25806452, 0.5483871 , 0.64516129,\n        0.74193548, 0.73333333, 0.66666667, 0.63333333, 0.6       ]),\n 'test_recall': array([1.        , 0.47826087, 0.26086957, 0.60869565, 0.69565217,\n        0.77272727, 0.90909091, 0.81818182, 0.81818182, 0.63636364]),\n 'test_precision': array([0.74193548, 0.57894737, 0.5       , 0.73684211, 0.8       ,\n        0.85      , 0.76923077, 0.75      , 0.72      , 0.77777778]),\n 'test_roc_auc': array([0.5       , 0.23913043, 0.25543478, 0.47826087, 0.59782609,\n        0.71969697, 0.57954545, 0.53409091, 0.49431818, 0.59659091])}"
     },
     "execution_count": 83,
     "metadata": {},
     "output_type": "execute_result"
    }
   ],
   "source": [
    "scores = cross_validate(dt_classifier, X, y, cv=10, scoring=scoring)\r\n",
    "scores"
   ]
  }
 ],
 "metadata": {
  "kernelspec": {
   "display_name": "Python 3.8.8 64-bit (conda)",
   "name": "python388jvsc74a57bd0533f42cc1718b4e514b78a4bcd7158294e27b7c18264f40c4fe062bcb1773c09"
  },
  "language_info": {
   "codemirror_mode": {
    "name": "ipython",
    "version": 3
   },
   "file_extension": ".py",
   "mimetype": "text/x-python",
   "name": "python",
   "nbconvert_exporter": "python",
   "pygments_lexer": "ipython3",
   "version": "3.8.8"
  },
  "orig_nbformat": 2
 },
 "nbformat": 4,
 "nbformat_minor": 2
}