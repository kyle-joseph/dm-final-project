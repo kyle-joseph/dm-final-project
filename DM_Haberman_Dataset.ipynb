{
 "cells": [
  {
   "cell_type": "code",
   "execution_count": 1,
   "metadata": {},
   "outputs": [],
   "source": [
    "import pandas as pd"
   ]
  },
  {
   "cell_type": "code",
   "execution_count": 2,
   "metadata": {},
   "outputs": [],
   "source": [
    "data = pd.read_csv('haberman.csv', index_col = False, names = ['age', 'operation_year', 'positive_axillary_nodes_detected', 'survival_status'])"
   ]
  },
  {
   "cell_type": "code",
   "execution_count": 3,
   "metadata": {},
   "outputs": [
    {
     "data": {
      "text/html": "<div>\n<style scoped>\n    .dataframe tbody tr th:only-of-type {\n        vertical-align: middle;\n    }\n\n    .dataframe tbody tr th {\n        vertical-align: top;\n    }\n\n    .dataframe thead th {\n        text-align: right;\n    }\n</style>\n<table border=\"1\" class=\"dataframe\">\n  <thead>\n    <tr style=\"text-align: right;\">\n      <th></th>\n      <th>age</th>\n      <th>operation_year</th>\n      <th>positive_axillary_nodes_detected</th>\n      <th>survival_status</th>\n    </tr>\n  </thead>\n  <tbody>\n    <tr>\n      <th>0</th>\n      <td>30</td>\n      <td>64</td>\n      <td>1</td>\n      <td>1</td>\n    </tr>\n    <tr>\n      <th>1</th>\n      <td>30</td>\n      <td>62</td>\n      <td>3</td>\n      <td>1</td>\n    </tr>\n    <tr>\n      <th>2</th>\n      <td>30</td>\n      <td>65</td>\n      <td>0</td>\n      <td>1</td>\n    </tr>\n    <tr>\n      <th>3</th>\n      <td>31</td>\n      <td>59</td>\n      <td>2</td>\n      <td>1</td>\n    </tr>\n    <tr>\n      <th>4</th>\n      <td>31</td>\n      <td>65</td>\n      <td>4</td>\n      <td>1</td>\n    </tr>\n    <tr>\n      <th>...</th>\n      <td>...</td>\n      <td>...</td>\n      <td>...</td>\n      <td>...</td>\n    </tr>\n    <tr>\n      <th>301</th>\n      <td>75</td>\n      <td>62</td>\n      <td>1</td>\n      <td>1</td>\n    </tr>\n    <tr>\n      <th>302</th>\n      <td>76</td>\n      <td>67</td>\n      <td>0</td>\n      <td>1</td>\n    </tr>\n    <tr>\n      <th>303</th>\n      <td>77</td>\n      <td>65</td>\n      <td>3</td>\n      <td>1</td>\n    </tr>\n    <tr>\n      <th>304</th>\n      <td>78</td>\n      <td>65</td>\n      <td>1</td>\n      <td>2</td>\n    </tr>\n    <tr>\n      <th>305</th>\n      <td>83</td>\n      <td>58</td>\n      <td>2</td>\n      <td>2</td>\n    </tr>\n  </tbody>\n</table>\n<p>306 rows × 4 columns</p>\n</div>",
      "text/plain": "     age  operation_year  positive_axillary_nodes_detected  survival_status\n0     30              64                                 1                1\n1     30              62                                 3                1\n2     30              65                                 0                1\n3     31              59                                 2                1\n4     31              65                                 4                1\n..   ...             ...                               ...              ...\n301   75              62                                 1                1\n302   76              67                                 0                1\n303   77              65                                 3                1\n304   78              65                                 1                2\n305   83              58                                 2                2\n\n[306 rows x 4 columns]"
     },
     "execution_count": 3,
     "metadata": {},
     "output_type": "execute_result"
    }
   ],
   "source": [
    "data"
   ]
  },
  {
   "cell_type": "code",
   "execution_count": 4,
   "metadata": {},
   "outputs": [],
   "source": [
    "#survival_status = {1:'survived', 2:'died'}\r\n",
    "#data['survival_status'] = data.survival_status.map(survival_status)"
   ]
  },
  {
   "cell_type": "code",
   "execution_count": 5,
   "metadata": {},
   "outputs": [
    {
     "data": {
      "text/html": "<div>\n<style scoped>\n    .dataframe tbody tr th:only-of-type {\n        vertical-align: middle;\n    }\n\n    .dataframe tbody tr th {\n        vertical-align: top;\n    }\n\n    .dataframe thead th {\n        text-align: right;\n    }\n</style>\n<table border=\"1\" class=\"dataframe\">\n  <thead>\n    <tr style=\"text-align: right;\">\n      <th></th>\n      <th>age</th>\n      <th>operation_year</th>\n      <th>positive_axillary_nodes_detected</th>\n      <th>survival_status</th>\n    </tr>\n  </thead>\n  <tbody>\n    <tr>\n      <th>0</th>\n      <td>30</td>\n      <td>64</td>\n      <td>1</td>\n      <td>1</td>\n    </tr>\n    <tr>\n      <th>1</th>\n      <td>30</td>\n      <td>62</td>\n      <td>3</td>\n      <td>1</td>\n    </tr>\n    <tr>\n      <th>2</th>\n      <td>30</td>\n      <td>65</td>\n      <td>0</td>\n      <td>1</td>\n    </tr>\n    <tr>\n      <th>3</th>\n      <td>31</td>\n      <td>59</td>\n      <td>2</td>\n      <td>1</td>\n    </tr>\n    <tr>\n      <th>4</th>\n      <td>31</td>\n      <td>65</td>\n      <td>4</td>\n      <td>1</td>\n    </tr>\n    <tr>\n      <th>...</th>\n      <td>...</td>\n      <td>...</td>\n      <td>...</td>\n      <td>...</td>\n    </tr>\n    <tr>\n      <th>301</th>\n      <td>75</td>\n      <td>62</td>\n      <td>1</td>\n      <td>1</td>\n    </tr>\n    <tr>\n      <th>302</th>\n      <td>76</td>\n      <td>67</td>\n      <td>0</td>\n      <td>1</td>\n    </tr>\n    <tr>\n      <th>303</th>\n      <td>77</td>\n      <td>65</td>\n      <td>3</td>\n      <td>1</td>\n    </tr>\n    <tr>\n      <th>304</th>\n      <td>78</td>\n      <td>65</td>\n      <td>1</td>\n      <td>2</td>\n    </tr>\n    <tr>\n      <th>305</th>\n      <td>83</td>\n      <td>58</td>\n      <td>2</td>\n      <td>2</td>\n    </tr>\n  </tbody>\n</table>\n<p>306 rows × 4 columns</p>\n</div>",
      "text/plain": "     age  operation_year  positive_axillary_nodes_detected  survival_status\n0     30              64                                 1                1\n1     30              62                                 3                1\n2     30              65                                 0                1\n3     31              59                                 2                1\n4     31              65                                 4                1\n..   ...             ...                               ...              ...\n301   75              62                                 1                1\n302   76              67                                 0                1\n303   77              65                                 3                1\n304   78              65                                 1                2\n305   83              58                                 2                2\n\n[306 rows x 4 columns]"
     },
     "execution_count": 5,
     "metadata": {},
     "output_type": "execute_result"
    }
   ],
   "source": [
    "data"
   ]
  },
  {
   "cell_type": "code",
   "execution_count": 6,
   "metadata": {},
   "outputs": [],
   "source": [
    "X, y = data[['age', 'operation_year', 'positive_axillary_nodes_detected']], data['survival_status']"
   ]
  },
  {
   "cell_type": "code",
   "execution_count": 7,
   "metadata": {},
   "outputs": [],
   "source": [
    "def getPrecision(tp, fp):\r\n",
    "    return tp/(tp + fp)"
   ]
  },
  {
   "cell_type": "code",
   "execution_count": 8,
   "metadata": {},
   "outputs": [],
   "source": [
    "def getRecall(tp, fn):\r\n",
    "    return tp/(tp + fn)"
   ]
  },
  {
   "cell_type": "code",
   "execution_count": 9,
   "metadata": {},
   "outputs": [],
   "source": [
    "def getF1Score(p, r):\r\n",
    "    return (2 * (p * r))/(p + r)"
   ]
  },
  {
   "cell_type": "code",
   "execution_count": 10,
   "metadata": {},
   "outputs": [],
   "source": [
    "def getSpecificity(tn, fp):\r\n",
    "    return tn/(tn + fp)\r\n"
   ]
  },
  {
   "cell_type": "code",
   "execution_count": 11,
   "metadata": {},
   "outputs": [],
   "source": [
    "from sklearn.model_selection import cross_validate\r\n",
    "from sklearn.metrics import make_scorer, recall_score"
   ]
  },
  {
   "cell_type": "code",
   "execution_count": 12,
   "metadata": {},
   "outputs": [],
   "source": [
    "specificity = make_scorer(recall_score, pos_label=2)\r\n",
    "sensitivity = make_scorer(recall_score, pos_label=1)\r\n",
    "scoring = {'accuracy': 'accuracy',\r\n",
    "           'precision': 'precision',\r\n",
    "           'recall': 'recall',\r\n",
    "           'sensitivity': sensitivity,\r\n",
    "           'specificity': specificity,\r\n",
    "           'f1': 'f1'}"
   ]
  },
  {
   "cell_type": "markdown",
   "metadata": {},
   "source": [
    "Decision Tree"
   ]
  },
  {
   "cell_type": "code",
   "execution_count": 13,
   "metadata": {},
   "outputs": [],
   "source": [
    "from sklearn.tree import DecisionTreeClassifier"
   ]
  },
  {
   "cell_type": "code",
   "execution_count": 14,
   "metadata": {},
   "outputs": [],
   "source": [
    "dt_classifier = DecisionTreeClassifier()"
   ]
  },
  {
   "cell_type": "code",
   "execution_count": 15,
   "metadata": {},
   "outputs": [],
   "source": [
    "dt_scores = cross_validate(dt_classifier, X, y, cv=10, scoring=scoring)"
   ]
  },
  {
   "cell_type": "code",
   "execution_count": 16,
   "metadata": {},
   "outputs": [
    {
     "name": "stdout",
     "output_type": "stream",
     "text": [
      "Precision: 0.734510210282706\n",
      "Recall: 0.7221343873517787\n",
      "Sensitivity: 0.7221343873517787\n",
      "Specificity: 0.30277777777777776\n",
      "F1: 0.7187873648565695\n",
      "Accuracy: 0.6120430107526882\n"
     ]
    }
   ],
   "source": [
    "print('Precision: %s' % dt_scores['test_precision'].mean())\r\n",
    "print('Recall: %s' % dt_scores['test_recall'].mean())\r\n",
    "print('Sensitivity: %s' % dt_scores['test_sensitivity'].mean())\r\n",
    "print('Specificity: %s' % dt_scores['test_specificity'].mean())\r\n",
    "print('F1: %s' % dt_scores['test_f1'].mean())\r\n",
    "print('Accuracy: %s' % dt_scores['test_accuracy'].mean())\r\n"
   ]
  },
  {
   "cell_type": "markdown",
   "metadata": {},
   "source": [
    "Naive Bayes"
   ]
  },
  {
   "cell_type": "code",
   "execution_count": 17,
   "metadata": {},
   "outputs": [],
   "source": [
    "from sklearn.naive_bayes import GaussianNB"
   ]
  },
  {
   "cell_type": "code",
   "execution_count": 18,
   "metadata": {},
   "outputs": [],
   "source": [
    "gnb_classifier = GaussianNB()"
   ]
  },
  {
   "cell_type": "code",
   "execution_count": 19,
   "metadata": {},
   "outputs": [],
   "source": [
    "gnb_scores = cross_validate(gnb_classifier, X, y, cv=10, scoring=scoring)"
   ]
  },
  {
   "cell_type": "code",
   "execution_count": 20,
   "metadata": {},
   "outputs": [
    {
     "name": "stdout",
     "output_type": "stream",
     "text": [
      "Precision: 0.7703470142513524\n",
      "Recall: 0.9464426877470355\n",
      "Sensitivity: 0.9464426877470355\n",
      "Specificity: 0.20972222222222223\n",
      "F1: 0.848352996153908\n",
      "Accuracy: 0.7519354838709678\n"
     ]
    }
   ],
   "source": [
    "print('Precision: %s' % gnb_scores['test_precision'].mean())\r\n",
    "print('Recall: %s' % gnb_scores['test_recall'].mean())\r\n",
    "print('Sensitivity: %s' % gnb_scores['test_sensitivity'].mean())\r\n",
    "print('Specificity: %s' % gnb_scores['test_specificity'].mean())\r\n",
    "print('F1: %s' % gnb_scores['test_f1'].mean())\r\n",
    "print('Accuracy: %s' % gnb_scores['test_accuracy'].mean())"
   ]
  },
  {
   "cell_type": "markdown",
   "metadata": {},
   "source": [
    "Logistic Regression"
   ]
  },
  {
   "cell_type": "code",
   "execution_count": 21,
   "metadata": {},
   "outputs": [],
   "source": [
    "from sklearn.linear_model import LogisticRegression"
   ]
  },
  {
   "cell_type": "code",
   "execution_count": 22,
   "metadata": {},
   "outputs": [],
   "source": [
    "lr_classifier = LogisticRegression(random_state = 0)"
   ]
  },
  {
   "cell_type": "code",
   "execution_count": 23,
   "metadata": {},
   "outputs": [],
   "source": [
    "lr_scores = cross_validate(lr_classifier, X, y, cv=10, scoring=scoring)"
   ]
  },
  {
   "cell_type": "code",
   "execution_count": 24,
   "metadata": {},
   "outputs": [
    {
     "name": "stdout",
     "output_type": "stream",
     "text": [
      "Precision: 0.7603994330968747\n",
      "Recall: 0.9549407114624506\n",
      "Sensitivity: 0.9549407114624506\n",
      "Specificity: 0.15972222222222224\n",
      "F1: 0.8460620797873615\n",
      "Accuracy: 0.7450537634408603\n"
     ]
    }
   ],
   "source": [
    "print('Precision: %s' % lr_scores['test_precision'].mean())\r\n",
    "print('Recall: %s' % lr_scores['test_recall'].mean())\r\n",
    "print('Sensitivity: %s' % lr_scores['test_sensitivity'].mean())\r\n",
    "print('Specificity: %s' % lr_scores['test_specificity'].mean())\r\n",
    "print('F1: %s' % lr_scores['test_f1'].mean())\r\n",
    "print('Accuracy: %s' % lr_scores['test_accuracy'].mean())"
   ]
  },
  {
   "cell_type": "markdown",
   "metadata": {},
   "source": [
    "Support Vector Machine"
   ]
  },
  {
   "cell_type": "code",
   "execution_count": 25,
   "metadata": {},
   "outputs": [],
   "source": [
    "from sklearn import svm"
   ]
  },
  {
   "cell_type": "code",
   "execution_count": 26,
   "metadata": {},
   "outputs": [],
   "source": [
    "svm_classifier = svm.SVC(kernel='linear', C=1)"
   ]
  },
  {
   "cell_type": "code",
   "execution_count": 27,
   "metadata": {},
   "outputs": [],
   "source": [
    "svm_scores = cross_validate(svm_classifier, X, y, cv=10, scoring=scoring)"
   ]
  },
  {
   "cell_type": "code",
   "execution_count": 28,
   "metadata": {},
   "outputs": [
    {
     "name": "stdout",
     "output_type": "stream",
     "text": [
      "Precision: 0.7377594152232639\n",
      "Recall: 0.9865612648221344\n",
      "Sensitivity: 0.9865612648221344\n",
      "Specificity: 0.025\n",
      "F1: 0.8439835763365174\n",
      "Accuracy: 0.7319354838709677\n"
     ]
    }
   ],
   "source": [
    "print('Precision: %s' % svm_scores['test_precision'].mean())\r\n",
    "print('Recall: %s' % svm_scores['test_recall'].mean())\r\n",
    "print('Sensitivity: %s' % svm_scores['test_sensitivity'].mean())\r\n",
    "print('Specificity: %s' % svm_scores['test_specificity'].mean())\r\n",
    "print('F1: %s' % svm_scores['test_f1'].mean())\r\n",
    "print('Accuracy: %s' % svm_scores['test_accuracy'].mean())"
   ]
  },
  {
   "cell_type": "markdown",
   "metadata": {},
   "source": [
    "Random Forest"
   ]
  },
  {
   "cell_type": "code",
   "execution_count": 29,
   "metadata": {},
   "outputs": [],
   "source": [
    "from sklearn.ensemble import RandomForestClassifier"
   ]
  },
  {
   "cell_type": "code",
   "execution_count": 30,
   "metadata": {},
   "outputs": [],
   "source": [
    "rf_classifier = RandomForestClassifier(random_state = 0)"
   ]
  },
  {
   "cell_type": "code",
   "execution_count": 31,
   "metadata": {},
   "outputs": [],
   "source": [
    "rf_scores = cross_validate(rf_classifier, X, y, cv=10, scoring=scoring)"
   ]
  },
  {
   "cell_type": "code",
   "execution_count": 32,
   "metadata": {},
   "outputs": [
    {
     "name": "stdout",
     "output_type": "stream",
     "text": [
      "Precision: 0.7727295304530244\n",
      "Recall: 0.8363636363636363\n",
      "Sensitivity: 0.8363636363636363\n",
      "Specificity: 0.29027777777777775\n",
      "F1: 0.7970221459407589\n",
      "Accuracy: 0.6931182795698925\n"
     ]
    }
   ],
   "source": [
    "print('Precision: %s' % rf_scores['test_precision'].mean())\r\n",
    "print('Recall: %s' % rf_scores['test_recall'].mean())\r\n",
    "print('Sensitivity: %s' % rf_scores['test_sensitivity'].mean())\r\n",
    "print('Specificity: %s' % rf_scores['test_specificity'].mean())\r\n",
    "print('F1: %s' % rf_scores['test_f1'].mean())\r\n",
    "print('Accuracy: %s' % rf_scores['test_accuracy'].mean())"
   ]
  }
 ],
 "metadata": {
  "kernelspec": {
   "display_name": "Python 3.8.8 64-bit (conda)",
   "name": "python388jvsc74a57bd0533f42cc1718b4e514b78a4bcd7158294e27b7c18264f40c4fe062bcb1773c09"
  },
  "language_info": {
   "codemirror_mode": {
    "name": "ipython",
    "version": 3
   },
   "file_extension": ".py",
   "mimetype": "text/x-python",
   "name": "python",
   "nbconvert_exporter": "python",
   "pygments_lexer": "ipython3",
   "version": "3.8.8"
  },
  "orig_nbformat": 2
 },
 "nbformat": 4,
 "nbformat_minor": 2
}